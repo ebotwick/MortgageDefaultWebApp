{
 "cells": [
  {
   "cell_type": "code",
   "execution_count": 8,
   "metadata": {},
   "outputs": [],
   "source": [
    "apikey = \"8cWjeJg2pd1YRVmbedEDy35Z70ELcu9qJD2qyzAbQLhD\"\n",
    "\n",
    "# Get an IAM token from IBM Cloud\n",
    "url     = \"https://iam.bluemix.net/oidc/token\"\n",
    "headers = { \"Content-Type\" : \"application/x-www-form-urlencoded\" }\n",
    "data    = \"apikey=\" + apikey + \"&grant_type=urn:ibm:params:oauth:grant-type:apikey\"\n",
    "IBM_cloud_IAM_uid = \"bx\"\n",
    "IBM_cloud_IAM_pwd = \"bx\"\n",
    "response  = requests.post( url, headers=headers, data=data, auth=( IBM_cloud_IAM_uid, IBM_cloud_IAM_pwd ) )\n",
    "iam_token = response.json()[\"access_token\"]\n",
    "\n",
    "# from creditrisk.models import scorerisk\n",
    "# p1 = scorerisk(CheckingStatus = \"0_to_200\", CreditHistory = \"all_credits_paid_back\", EmploymentDuration = \"1_to_4\", OwnsProperty = \"real_estate\", Age = 44, LoanAmount = 5000, LoanDuration = 24, CurrentResidenceDuration = 4, InstallmentPercent =3)\n",
    "# p2 = scorerisk(CheckingStatus = \"no_checking\", CreditHistory = \"prior_payments_delayed\", EmploymentDuration = \"4_to_7\", OwnsProperty = \"car_other\", Age = 29, LoanAmount = 3000, LoanDuration = 18, CurrentResidenceDuration = 2, InstallmentPercent =5)\n",
    "\n",
    "import urllib3, requests, json\n",
    "ml_instance_id = \"0c0a53ec-6937-47bc-b0a7-68840209659f\"\n",
    "# NOTE: generate iam_token and retrieve ml_instance_id based on provided documentation\n",
    "header = {'Content-Type': 'application/json', 'Authorization': 'Bearer ' + iam_token, 'ML-Instance-ID': ml_instance_id}"
   ]
  },
  {
   "cell_type": "code",
   "execution_count": 11,
   "metadata": {},
   "outputs": [],
   "source": [
    "import numpy as np\n",
    "import requests"
   ]
  },
  {
   "cell_type": "code",
   "execution_count": 18,
   "metadata": {},
   "outputs": [
    {
     "data": {
      "text/plain": [
       "'{\\n  \"trace\": \"02b592f497880d47900c42aee477d992\",\\n  \"errors\": [{\\n    \"code\": \"invalid_payload\",\\n    \"message\": \"index 10 is out of bounds for axis 1 with size 9\"\\n  }]\\n}'"
      ]
     },
     "execution_count": 18,
     "metadata": {},
     "output_type": "execute_result"
    }
   ],
   "source": [
    "null = \"\"\n",
    "# webobj = get_object_or_404(scorepayload)\n",
    "payloadToScore = {\"input_data\":[{\"fields\":[\"CheckingStatus\",\"LoanDuration\",\"CreditHistory\",\"LoanAmount\",\"EmploymentDuration\",\"InstallmentPercent\",\"CurrentResidenceDuration\",\"OwnsProperty\",\"Age\"],\n",
    "                                     \"values\":[[\"less_0\",24,\"all_credits_paid_back\",5000,\"1_to_4\",5,3,'real_estate',30]]}]}\n",
    "score_respo = requests.post('https://us-south.ml.cloud.ibm.com/v4/deployments/3fd7ac36-5b32-43e5-b8f2-87c354deb094/predictions', json=payloadToScore, headers=header)\n",
    "\n",
    "\n",
    "score_respo.text"
   ]
  },
  {
   "cell_type": "code",
   "execution_count": null,
   "metadata": {},
   "outputs": [],
   "source": [
    "\n",
    "dictofvals = json.loads(score_respo.text).get('predictions')[0]\n",
    "prediction = dictofvals['values'][0][0]\n",
    "confidence = np.around((dictofvals['values'][0][1][0])*100, 2)\n",
    "verdict = \"empty\"\n",
    "if prediction == \"No Risk\":\n",
    "    verdict = f\"Our model has predicted that this customer is NOT at risk to repay this loan with {confidence}% confidence\"\n",
    "else:\n",
    "    verdict = f\"Our model has predicted that this customer is at risk to repay this loan  {confidence}% confidence\"\n",
    "\n",
    "print (verdict)"
   ]
  }
 ],
 "metadata": {
  "kernelspec": {
   "display_name": "Python 3",
   "language": "python",
   "name": "python3"
  },
  "language_info": {
   "codemirror_mode": {
    "name": "ipython",
    "version": 3
   },
   "file_extension": ".py",
   "mimetype": "text/x-python",
   "name": "python",
   "nbconvert_exporter": "python",
   "pygments_lexer": "ipython3",
   "version": "3.7.4"
  }
 },
 "nbformat": 4,
 "nbformat_minor": 4
}
