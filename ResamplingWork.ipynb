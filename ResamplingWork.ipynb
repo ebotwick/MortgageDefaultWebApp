{
 "cells": [
  {
   "cell_type": "code",
   "execution_count": 73,
   "metadata": {},
   "outputs": [
    {
     "name": "stdout",
     "output_type": "stream",
     "text": [
      "/Users/elliott.botwick@ibm.com/Documents/MortgageWebApp\n"
     ]
    }
   ],
   "source": [
    "!pwd"
   ]
  },
  {
   "cell_type": "code",
   "execution_count": 1,
   "metadata": {},
   "outputs": [],
   "source": [
    "import pandas as pd\n",
    "loans = pd.read_csv(\"/Users/elliott.botwick@ibm.com/Documents/MortgageWebApp/MortgageTrainingData.csv\")"
   ]
  },
  {
   "cell_type": "code",
   "execution_count": 3,
   "metadata": {},
   "outputs": [
    {
     "data": {
      "text/html": [
       "<div>\n",
       "<style scoped>\n",
       "    .dataframe tbody tr th:only-of-type {\n",
       "        vertical-align: middle;\n",
       "    }\n",
       "\n",
       "    .dataframe tbody tr th {\n",
       "        vertical-align: top;\n",
       "    }\n",
       "\n",
       "    .dataframe thead th {\n",
       "        text-align: right;\n",
       "    }\n",
       "</style>\n",
       "<table border=\"1\" class=\"dataframe\">\n",
       "  <thead>\n",
       "    <tr style=\"text-align: right;\">\n",
       "      <th></th>\n",
       "      <th>ID</th>\n",
       "      <th>IncomeAdj</th>\n",
       "      <th>AppliedOnline</th>\n",
       "      <th>Residence</th>\n",
       "      <th>YearCurrentAddress</th>\n",
       "      <th>YearsCurrentEmployer</th>\n",
       "      <th>NumberOfCards</th>\n",
       "      <th>CCDebt</th>\n",
       "      <th>Loans</th>\n",
       "      <th>LoanAmount</th>\n",
       "      <th>SalePrice</th>\n",
       "      <th>State</th>\n",
       "      <th>LoanDefault</th>\n",
       "    </tr>\n",
       "  </thead>\n",
       "  <tbody>\n",
       "    <tr>\n",
       "      <th>0</th>\n",
       "      <td>100522</td>\n",
       "      <td>72570.30</td>\n",
       "      <td>YES</td>\n",
       "      <td>Owner Occupier</td>\n",
       "      <td>13</td>\n",
       "      <td>11</td>\n",
       "      <td>2</td>\n",
       "      <td>1055</td>\n",
       "      <td>0</td>\n",
       "      <td>9405</td>\n",
       "      <td>500000</td>\n",
       "      <td>NY</td>\n",
       "      <td>NO</td>\n",
       "    </tr>\n",
       "    <tr>\n",
       "      <th>1</th>\n",
       "      <td>101756</td>\n",
       "      <td>98907.60</td>\n",
       "      <td>YES</td>\n",
       "      <td>Owner Occupier</td>\n",
       "      <td>20</td>\n",
       "      <td>11</td>\n",
       "      <td>2</td>\n",
       "      <td>3894</td>\n",
       "      <td>0</td>\n",
       "      <td>9880</td>\n",
       "      <td>750000</td>\n",
       "      <td>NY</td>\n",
       "      <td>NO</td>\n",
       "    </tr>\n",
       "    <tr>\n",
       "      <th>2</th>\n",
       "      <td>101354</td>\n",
       "      <td>95234.70</td>\n",
       "      <td>YES</td>\n",
       "      <td>Owner Occupier</td>\n",
       "      <td>25</td>\n",
       "      <td>16</td>\n",
       "      <td>2</td>\n",
       "      <td>1555</td>\n",
       "      <td>1</td>\n",
       "      <td>6285</td>\n",
       "      <td>155000</td>\n",
       "      <td>PA</td>\n",
       "      <td>YES</td>\n",
       "    </tr>\n",
       "    <tr>\n",
       "      <th>3</th>\n",
       "      <td>100512</td>\n",
       "      <td>75274.65</td>\n",
       "      <td>YES</td>\n",
       "      <td>Owner Occupier</td>\n",
       "      <td>1</td>\n",
       "      <td>19</td>\n",
       "      <td>1</td>\n",
       "      <td>1878</td>\n",
       "      <td>0</td>\n",
       "      <td>9260</td>\n",
       "      <td>195000</td>\n",
       "      <td>VA</td>\n",
       "      <td>YES</td>\n",
       "    </tr>\n",
       "    <tr>\n",
       "      <th>4</th>\n",
       "      <td>100537</td>\n",
       "      <td>74383.65</td>\n",
       "      <td>NO</td>\n",
       "      <td>Owner Occupier</td>\n",
       "      <td>14</td>\n",
       "      <td>15</td>\n",
       "      <td>2</td>\n",
       "      <td>713</td>\n",
       "      <td>1</td>\n",
       "      <td>8430</td>\n",
       "      <td>140000</td>\n",
       "      <td>NY</td>\n",
       "      <td>NO</td>\n",
       "    </tr>\n",
       "  </tbody>\n",
       "</table>\n",
       "</div>"
      ],
      "text/plain": [
       "       ID  IncomeAdj AppliedOnline       Residence  YearCurrentAddress  \\\n",
       "0  100522   72570.30           YES  Owner Occupier                  13   \n",
       "1  101756   98907.60           YES  Owner Occupier                  20   \n",
       "2  101354   95234.70           YES  Owner Occupier                  25   \n",
       "3  100512   75274.65           YES  Owner Occupier                   1   \n",
       "4  100537   74383.65            NO  Owner Occupier                  14   \n",
       "\n",
       "   YearsCurrentEmployer  NumberOfCards  CCDebt  Loans  LoanAmount  SalePrice  \\\n",
       "0                    11              2    1055      0        9405     500000   \n",
       "1                    11              2    3894      0        9880     750000   \n",
       "2                    16              2    1555      1        6285     155000   \n",
       "3                    19              1    1878      0        9260     195000   \n",
       "4                    15              2     713      1        8430     140000   \n",
       "\n",
       "  State LoanDefault  \n",
       "0    NY          NO  \n",
       "1    NY          NO  \n",
       "2    PA         YES  \n",
       "3    VA         YES  \n",
       "4    NY          NO  "
      ]
     },
     "execution_count": 3,
     "metadata": {},
     "output_type": "execute_result"
    }
   ],
   "source": [
    "loans.head()"
   ]
  },
  {
   "cell_type": "code",
   "execution_count": 9,
   "metadata": {},
   "outputs": [
    {
     "data": {
      "text/html": [
       "<div>\n",
       "<style scoped>\n",
       "    .dataframe tbody tr th:only-of-type {\n",
       "        vertical-align: middle;\n",
       "    }\n",
       "\n",
       "    .dataframe tbody tr th {\n",
       "        vertical-align: top;\n",
       "    }\n",
       "\n",
       "    .dataframe thead th {\n",
       "        text-align: right;\n",
       "    }\n",
       "</style>\n",
       "<table border=\"1\" class=\"dataframe\">\n",
       "  <thead>\n",
       "    <tr style=\"text-align: right;\">\n",
       "      <th></th>\n",
       "      <th>ID</th>\n",
       "      <th>IncomeAdj</th>\n",
       "      <th>YearCurrentAddress</th>\n",
       "      <th>YearsCurrentEmployer</th>\n",
       "      <th>NumberOfCards</th>\n",
       "      <th>CCDebt</th>\n",
       "      <th>Loans</th>\n",
       "      <th>LoanAmount</th>\n",
       "      <th>SalePrice</th>\n",
       "    </tr>\n",
       "  </thead>\n",
       "  <tbody>\n",
       "    <tr>\n",
       "      <th>ID</th>\n",
       "      <td>1.000000</td>\n",
       "      <td>-0.008822</td>\n",
       "      <td>0.034167</td>\n",
       "      <td>0.029627</td>\n",
       "      <td>0.068991</td>\n",
       "      <td>0.016132</td>\n",
       "      <td>-0.015160</td>\n",
       "      <td>0.012433</td>\n",
       "      <td>-0.090407</td>\n",
       "    </tr>\n",
       "    <tr>\n",
       "      <th>IncomeAdj</th>\n",
       "      <td>-0.008822</td>\n",
       "      <td>1.000000</td>\n",
       "      <td>0.313627</td>\n",
       "      <td>0.205007</td>\n",
       "      <td>0.058351</td>\n",
       "      <td>0.192571</td>\n",
       "      <td>-0.006476</td>\n",
       "      <td>-0.059033</td>\n",
       "      <td>0.046757</td>\n",
       "    </tr>\n",
       "    <tr>\n",
       "      <th>YearCurrentAddress</th>\n",
       "      <td>0.034167</td>\n",
       "      <td>0.313627</td>\n",
       "      <td>1.000000</td>\n",
       "      <td>0.059626</td>\n",
       "      <td>-0.053745</td>\n",
       "      <td>0.168436</td>\n",
       "      <td>0.008815</td>\n",
       "      <td>-0.058700</td>\n",
       "      <td>-0.020508</td>\n",
       "    </tr>\n",
       "    <tr>\n",
       "      <th>YearsCurrentEmployer</th>\n",
       "      <td>0.029627</td>\n",
       "      <td>0.205007</td>\n",
       "      <td>0.059626</td>\n",
       "      <td>1.000000</td>\n",
       "      <td>0.020163</td>\n",
       "      <td>0.402617</td>\n",
       "      <td>0.063506</td>\n",
       "      <td>0.104361</td>\n",
       "      <td>-0.013002</td>\n",
       "    </tr>\n",
       "    <tr>\n",
       "      <th>NumberOfCards</th>\n",
       "      <td>0.068991</td>\n",
       "      <td>0.058351</td>\n",
       "      <td>-0.053745</td>\n",
       "      <td>0.020163</td>\n",
       "      <td>1.000000</td>\n",
       "      <td>-0.093818</td>\n",
       "      <td>0.057967</td>\n",
       "      <td>-0.041067</td>\n",
       "      <td>-0.074826</td>\n",
       "    </tr>\n",
       "    <tr>\n",
       "      <th>CCDebt</th>\n",
       "      <td>0.016132</td>\n",
       "      <td>0.192571</td>\n",
       "      <td>0.168436</td>\n",
       "      <td>0.402617</td>\n",
       "      <td>-0.093818</td>\n",
       "      <td>1.000000</td>\n",
       "      <td>0.015896</td>\n",
       "      <td>0.594223</td>\n",
       "      <td>0.009844</td>\n",
       "    </tr>\n",
       "    <tr>\n",
       "      <th>Loans</th>\n",
       "      <td>-0.015160</td>\n",
       "      <td>-0.006476</td>\n",
       "      <td>0.008815</td>\n",
       "      <td>0.063506</td>\n",
       "      <td>0.057967</td>\n",
       "      <td>0.015896</td>\n",
       "      <td>1.000000</td>\n",
       "      <td>-0.033331</td>\n",
       "      <td>-0.017645</td>\n",
       "    </tr>\n",
       "    <tr>\n",
       "      <th>LoanAmount</th>\n",
       "      <td>0.012433</td>\n",
       "      <td>-0.059033</td>\n",
       "      <td>-0.058700</td>\n",
       "      <td>0.104361</td>\n",
       "      <td>-0.041067</td>\n",
       "      <td>0.594223</td>\n",
       "      <td>-0.033331</td>\n",
       "      <td>1.000000</td>\n",
       "      <td>-0.133300</td>\n",
       "    </tr>\n",
       "    <tr>\n",
       "      <th>SalePrice</th>\n",
       "      <td>-0.090407</td>\n",
       "      <td>0.046757</td>\n",
       "      <td>-0.020508</td>\n",
       "      <td>-0.013002</td>\n",
       "      <td>-0.074826</td>\n",
       "      <td>0.009844</td>\n",
       "      <td>-0.017645</td>\n",
       "      <td>-0.133300</td>\n",
       "      <td>1.000000</td>\n",
       "    </tr>\n",
       "  </tbody>\n",
       "</table>\n",
       "</div>"
      ],
      "text/plain": [
       "                            ID  IncomeAdj  YearCurrentAddress  \\\n",
       "ID                    1.000000  -0.008822            0.034167   \n",
       "IncomeAdj            -0.008822   1.000000            0.313627   \n",
       "YearCurrentAddress    0.034167   0.313627            1.000000   \n",
       "YearsCurrentEmployer  0.029627   0.205007            0.059626   \n",
       "NumberOfCards         0.068991   0.058351           -0.053745   \n",
       "CCDebt                0.016132   0.192571            0.168436   \n",
       "Loans                -0.015160  -0.006476            0.008815   \n",
       "LoanAmount            0.012433  -0.059033           -0.058700   \n",
       "SalePrice            -0.090407   0.046757           -0.020508   \n",
       "\n",
       "                      YearsCurrentEmployer  NumberOfCards    CCDebt     Loans  \\\n",
       "ID                                0.029627       0.068991  0.016132 -0.015160   \n",
       "IncomeAdj                         0.205007       0.058351  0.192571 -0.006476   \n",
       "YearCurrentAddress                0.059626      -0.053745  0.168436  0.008815   \n",
       "YearsCurrentEmployer              1.000000       0.020163  0.402617  0.063506   \n",
       "NumberOfCards                     0.020163       1.000000 -0.093818  0.057967   \n",
       "CCDebt                            0.402617      -0.093818  1.000000  0.015896   \n",
       "Loans                             0.063506       0.057967  0.015896  1.000000   \n",
       "LoanAmount                        0.104361      -0.041067  0.594223 -0.033331   \n",
       "SalePrice                        -0.013002      -0.074826  0.009844 -0.017645   \n",
       "\n",
       "                      LoanAmount  SalePrice  \n",
       "ID                      0.012433  -0.090407  \n",
       "IncomeAdj              -0.059033   0.046757  \n",
       "YearCurrentAddress     -0.058700  -0.020508  \n",
       "YearsCurrentEmployer    0.104361  -0.013002  \n",
       "NumberOfCards          -0.041067  -0.074826  \n",
       "CCDebt                  0.594223   0.009844  \n",
       "Loans                  -0.033331  -0.017645  \n",
       "LoanAmount              1.000000  -0.133300  \n",
       "SalePrice              -0.133300   1.000000  "
      ]
     },
     "execution_count": 9,
     "metadata": {},
     "output_type": "execute_result"
    }
   ],
   "source": [
    "loans[loans['LoanDefault']==\"NO\"].corr()"
   ]
  },
  {
   "cell_type": "code",
   "execution_count": 11,
   "metadata": {},
   "outputs": [],
   "source": [
    "sampled_loans = loans.sample(1000, replace = True)"
   ]
  },
  {
   "cell_type": "code",
   "execution_count": 80,
   "metadata": {},
   "outputs": [
    {
     "data": {
      "text/plain": [
       "(array([312., 210.,  69.,  52.,  74.,  61.,  59.,  56.,  58.,  49.]),\n",
       " array([71148.  , 73923.96, 76699.92, 79475.88, 82251.84, 85027.8 ,\n",
       "        87803.76, 90579.72, 93355.68, 96131.64, 98907.6 ]),\n",
       " <a list of 10 Patch objects>)"
      ]
     },
     "execution_count": 80,
     "metadata": {},
     "output_type": "execute_result"
    },
    {
     "data": {
      "image/png": "[encoded data removed]",
      "text/plain": [
       "<Figure size 432x288 with 1 Axes>"
      ]
     },
     "metadata": {
      "needs_background": "light"
     },
     "output_type": "display_data"
    }
   ],
   "source": [
    "import matplotlib.pyplot as plt\n",
    "\n",
    "plt.hist(sampled_loans.IncomeAdj)"
   ]
  },
  {
   "cell_type": "code",
   "execution_count": 81,
   "metadata": {},
   "outputs": [],
   "source": [
    "import numpy as np\n",
    "from numpy import random\n",
    "sampled_loans['IncomeAdj_noise'] = sampled_loans['IncomeAdj'].apply(lambda x: np.around(x * random.uniform(0.9, 1.1)/5, decimals=2)*5)"
   ]
  },
  {
   "cell_type": "code",
   "execution_count": 82,
   "metadata": {},
   "outputs": [
    {
     "data": {
      "text/plain": [
       "(array([100., 156., 188., 171., 108., 100.,  82.,  39.,  33.,  23.]),\n",
       " array([ 64403.2 ,  68666.34,  72929.48,  77192.62,  81455.76,  85718.9 ,\n",
       "         89982.04,  94245.18,  98508.32, 102771.46, 107034.6 ]),\n",
       " <a list of 10 Patch objects>)"
      ]
     },
     "execution_count": 82,
     "metadata": {},
     "output_type": "execute_result"
    },
    {
     "data": {
      "image/png": "[encoded data removed]",
      "text/plain": [
       "<Figure size 432x288 with 1 Axes>"
      ]
     },
     "metadata": {
      "needs_background": "light"
     },
     "output_type": "display_data"
    }
   ],
   "source": [
    "import matplotlib.pyplot as plt\n",
    "\n",
    "plt.hist(sampled_loans.IncomeAdj_noise)"
   ]
  },
  {
   "cell_type": "code",
   "execution_count": 12,
   "metadata": {},
   "outputs": [],
   "source": [
    "sampled_loans['Default']= (sampled_loans.LoanDefault == \"YES\").astype(\"int\")"
   ]
  },
  {
   "cell_type": "code",
   "execution_count": 30,
   "metadata": {},
   "outputs": [
    {
     "data": {
      "text/plain": [
       "1.0"
      ]
     },
     "execution_count": 30,
     "metadata": {},
     "output_type": "execute_result"
    }
   ],
   "source": [
    "sampled_loans.corr()['ID'].sort_values(ascending = False)[0]"
   ]
  },
  {
   "cell_type": "code",
   "execution_count": 31,
   "metadata": {},
   "outputs": [
    {
     "data": {
      "text/html": [
       "<div>\n",
       "<style scoped>\n",
       "    .dataframe tbody tr th:only-of-type {\n",
       "        vertical-align: middle;\n",
       "    }\n",
       "\n",
       "    .dataframe tbody tr th {\n",
       "        vertical-align: top;\n",
       "    }\n",
       "\n",
       "    .dataframe thead th {\n",
       "        text-align: right;\n",
       "    }\n",
       "</style>\n",
       "<table border=\"1\" class=\"dataframe\">\n",
       "  <thead>\n",
       "    <tr style=\"text-align: right;\">\n",
       "      <th></th>\n",
       "      <th>ID</th>\n",
       "      <th>IncomeAdj</th>\n",
       "      <th>AppliedOnline</th>\n",
       "      <th>Residence</th>\n",
       "      <th>YearCurrentAddress</th>\n",
       "      <th>YearsCurrentEmployer</th>\n",
       "      <th>NumberOfCards</th>\n",
       "      <th>CCDebt</th>\n",
       "      <th>Loans</th>\n",
       "      <th>LoanAmount</th>\n",
       "      <th>SalePrice</th>\n",
       "      <th>State</th>\n",
       "      <th>LoanDefault</th>\n",
       "      <th>Default</th>\n",
       "    </tr>\n",
       "  </thead>\n",
       "  <tbody>\n",
       "    <tr>\n",
       "      <th>290</th>\n",
       "      <td>101421</td>\n",
       "      <td>93201.90</td>\n",
       "      <td>YES</td>\n",
       "      <td>Owner Occupier</td>\n",
       "      <td>5</td>\n",
       "      <td>11</td>\n",
       "      <td>1</td>\n",
       "      <td>696</td>\n",
       "      <td>1</td>\n",
       "      <td>4240</td>\n",
       "      <td>110000</td>\n",
       "      <td>VA</td>\n",
       "      <td>NO</td>\n",
       "      <td>0</td>\n",
       "    </tr>\n",
       "    <tr>\n",
       "      <th>166</th>\n",
       "      <td>100353</td>\n",
       "      <td>72448.20</td>\n",
       "      <td>NO</td>\n",
       "      <td>Public Housing</td>\n",
       "      <td>18</td>\n",
       "      <td>15</td>\n",
       "      <td>1</td>\n",
       "      <td>4242</td>\n",
       "      <td>0</td>\n",
       "      <td>7915</td>\n",
       "      <td>190000</td>\n",
       "      <td>VA</td>\n",
       "      <td>NO</td>\n",
       "      <td>0</td>\n",
       "    </tr>\n",
       "    <tr>\n",
       "      <th>225</th>\n",
       "      <td>100604</td>\n",
       "      <td>81521.55</td>\n",
       "      <td>NO</td>\n",
       "      <td>Owner Occupier</td>\n",
       "      <td>23</td>\n",
       "      <td>13</td>\n",
       "      <td>2</td>\n",
       "      <td>1793</td>\n",
       "      <td>0</td>\n",
       "      <td>8950</td>\n",
       "      <td>180000</td>\n",
       "      <td>VA</td>\n",
       "      <td>YES</td>\n",
       "      <td>1</td>\n",
       "    </tr>\n",
       "    <tr>\n",
       "      <th>23</th>\n",
       "      <td>100494</td>\n",
       "      <td>91444.65</td>\n",
       "      <td>NO</td>\n",
       "      <td>Owner Occupier</td>\n",
       "      <td>11</td>\n",
       "      <td>3</td>\n",
       "      <td>2</td>\n",
       "      <td>1169</td>\n",
       "      <td>0</td>\n",
       "      <td>10715</td>\n",
       "      <td>245000</td>\n",
       "      <td>PA</td>\n",
       "      <td>YES</td>\n",
       "      <td>1</td>\n",
       "    </tr>\n",
       "    <tr>\n",
       "      <th>73</th>\n",
       "      <td>100535</td>\n",
       "      <td>82480.20</td>\n",
       "      <td>YES</td>\n",
       "      <td>Private Renting</td>\n",
       "      <td>14</td>\n",
       "      <td>21</td>\n",
       "      <td>2</td>\n",
       "      <td>2660</td>\n",
       "      <td>0</td>\n",
       "      <td>9645</td>\n",
       "      <td>210000</td>\n",
       "      <td>VA</td>\n",
       "      <td>NO</td>\n",
       "      <td>0</td>\n",
       "    </tr>\n",
       "  </tbody>\n",
       "</table>\n",
       "</div>"
      ],
      "text/plain": [
       "         ID  IncomeAdj AppliedOnline        Residence  YearCurrentAddress  \\\n",
       "290  101421   93201.90           YES   Owner Occupier                   5   \n",
       "166  100353   72448.20            NO   Public Housing                  18   \n",
       "225  100604   81521.55            NO   Owner Occupier                  23   \n",
       "23   100494   91444.65            NO   Owner Occupier                  11   \n",
       "73   100535   82480.20           YES  Private Renting                  14   \n",
       "\n",
       "     YearsCurrentEmployer  NumberOfCards  CCDebt  Loans  LoanAmount  \\\n",
       "290                    11              1     696      1        4240   \n",
       "166                    15              1    4242      0        7915   \n",
       "225                    13              2    1793      0        8950   \n",
       "23                      3              2    1169      0       10715   \n",
       "73                     21              2    2660      0        9645   \n",
       "\n",
       "     SalePrice State LoanDefault  Default  \n",
       "290     110000    VA          NO        0  \n",
       "166     190000    VA          NO        0  \n",
       "225     180000    VA         YES        1  \n",
       "23      245000    PA         YES        1  \n",
       "73      210000    VA          NO        0  "
      ]
     },
     "execution_count": 31,
     "metadata": {},
     "output_type": "execute_result"
    }
   ],
   "source": [
    "sampled_loans.head()"
   ]
  },
  {
   "cell_type": "code",
   "execution_count": 84,
   "metadata": {},
   "outputs": [
    {
     "data": {
      "text/html": [
       "<div>\n",
       "<style scoped>\n",
       "    .dataframe tbody tr th:only-of-type {\n",
       "        vertical-align: middle;\n",
       "    }\n",
       "\n",
       "    .dataframe tbody tr th {\n",
       "        vertical-align: top;\n",
       "    }\n",
       "\n",
       "    .dataframe thead th {\n",
       "        text-align: right;\n",
       "    }\n",
       "</style>\n",
       "<table border=\"1\" class=\"dataframe\">\n",
       "  <thead>\n",
       "    <tr style=\"text-align: right;\">\n",
       "      <th></th>\n",
       "      <th>ID</th>\n",
       "      <th>IncomeAdj</th>\n",
       "      <th>AppliedOnline</th>\n",
       "      <th>Residence</th>\n",
       "      <th>YearCurrentAddress</th>\n",
       "      <th>YearsCurrentEmployer</th>\n",
       "      <th>NumberOfCards</th>\n",
       "      <th>CCDebt</th>\n",
       "      <th>Loans</th>\n",
       "      <th>LoanAmount</th>\n",
       "      <th>SalePrice</th>\n",
       "      <th>State</th>\n",
       "      <th>LoanDefault</th>\n",
       "      <th>IncomeAdj_noise</th>\n",
       "      <th>Default</th>\n",
       "    </tr>\n",
       "  </thead>\n",
       "  <tbody>\n",
       "    <tr>\n",
       "      <th>340</th>\n",
       "      <td>100450</td>\n",
       "      <td>90210.45</td>\n",
       "      <td>YES</td>\n",
       "      <td>Owner Occupier</td>\n",
       "      <td>15</td>\n",
       "      <td>22</td>\n",
       "      <td>2</td>\n",
       "      <td>3086</td>\n",
       "      <td>1</td>\n",
       "      <td>11875</td>\n",
       "      <td>180000</td>\n",
       "      <td>VA</td>\n",
       "      <td>NO</td>\n",
       "      <td>90468.75</td>\n",
       "      <td>0</td>\n",
       "    </tr>\n",
       "  </tbody>\n",
       "</table>\n",
       "</div>"
      ],
      "text/plain": [
       "         ID  IncomeAdj AppliedOnline       Residence  YearCurrentAddress  \\\n",
       "340  100450   90210.45           YES  Owner Occupier                  15   \n",
       "\n",
       "     YearsCurrentEmployer  NumberOfCards  CCDebt  Loans  LoanAmount  \\\n",
       "340                    22              2    3086      1       11875   \n",
       "\n",
       "     SalePrice State LoanDefault  IncomeAdj_noise  Default  \n",
       "340     180000    VA          NO         90468.75        0  "
      ]
     },
     "execution_count": 84,
     "metadata": {},
     "output_type": "execute_result"
    }
   ],
   "source": [
    "sampled_loans[2:3]"
   ]
  },
  {
   "cell_type": "code",
   "execution_count": 85,
   "metadata": {},
   "outputs": [],
   "source": [
    "sampled_loans.reset_index(drop = True, inplace = True)"
   ]
  },
  {
   "cell_type": "code",
   "execution_count": 86,
   "metadata": {},
   "outputs": [
    {
     "data": {
      "text/plain": [
       "1    True\n",
       "Name: Default, dtype: bool"
      ]
     },
     "execution_count": 86,
     "metadata": {},
     "output_type": "execute_result"
    }
   ],
   "source": [
    "sampled_loans[1:2]['Default']==0"
   ]
  },
  {
   "cell_type": "code",
   "execution_count": 93,
   "metadata": {},
   "outputs": [],
   "source": [
    "j = 0\n",
    "for i in range(len(sampled_loans)):\n",
    "    if(sampled_loans[i:(i+1)]['Default']==0)[i]:\n",
    "        j = j+1                       \n",
    "        sampled_loans['YearsCurrentAddress_noise'] = sampled_loans['YearCurrentAddress'].apply(lambda x: x * np.around(random.uniform(0.5, 1.5), 0)).astype(\"int\")\n",
    "    else: \n",
    "        sampled_loans['YearsCurrentAddress_noise'] = sampled_loans['YearCurrentAddress'].apply(lambda x: x * np.around(random.uniform(1.5, 2.5), 0)).astype(\"int\")"
   ]
  },
  {
   "cell_type": "code",
   "execution_count": 88,
   "metadata": {},
   "outputs": [
    {
     "data": {
      "text/plain": [
       "False"
      ]
     },
     "execution_count": 88,
     "metadata": {},
     "output_type": "execute_result"
    }
   ],
   "source": [
    "vary = (sampled_loans[i:i+1]['Default']==0)[i]\n",
    "vary"
   ]
  },
  {
   "cell_type": "code",
   "execution_count": 89,
   "metadata": {},
   "outputs": [
    {
     "data": {
      "text/plain": [
       "0    572\n",
       "1    428\n",
       "Name: Default, dtype: int64"
      ]
     },
     "execution_count": 89,
     "metadata": {},
     "output_type": "execute_result"
    }
   ],
   "source": [
    "sampled_loans.Default.value_counts()"
   ]
  },
  {
   "cell_type": "code",
   "execution_count": 90,
   "metadata": {},
   "outputs": [
    {
     "name": "stdout",
     "output_type": "stream",
     "text": [
      "0 yee\n",
      "1 yee\n",
      "2 yee\n",
      "3 yee\n",
      "5 yee\n",
      "6 yee\n",
      "9 yee\n"
     ]
    }
   ],
   "source": [
    "for i in range(10):\n",
    "    if(sampled_loans[i:(i+1)]['Default']==0)[i]:\n",
    "         print(i, 'yee')"
   ]
  },
  {
   "cell_type": "code",
   "execution_count": 91,
   "metadata": {},
   "outputs": [],
   "source": [
    "# sampled_loans['YearsCurrentAddress_noise'] = sampled_loans['YearCurrentAddress'].apply(lambda x: x * np.around(random.uniform(0.4, 1.7), 0)).astype(\"int\")"
   ]
  },
  {
   "cell_type": "code",
   "execution_count": 94,
   "metadata": {},
   "outputs": [],
   "source": [
    "sampled_loans['YearsCurrentEmployer_noise'] = sampled_loans['YearsCurrentEmployer'].apply(lambda x: x * np.around(random.uniform(0.3, 2), 0)).astype(\"int\")"
   ]
  },
  {
   "cell_type": "code",
   "execution_count": 95,
   "metadata": {},
   "outputs": [],
   "source": [
    "sampled_loans['NumberOfCards_noise'] = sampled_loans['NumberOfCards'].apply(lambda x: x * np.around(random.uniform(0.3, 2), 0)).astype(\"int\")\n",
    "\n",
    "# plt.hist(sampled_loans.YearsCurrentAddress_noise)"
   ]
  },
  {
   "cell_type": "code",
   "execution_count": 96,
   "metadata": {},
   "outputs": [],
   "source": [
    "sampled_loans['Default_noise'] = sampled_loans['Default'].apply(lambda x: x * np.around(random.uniform(0.65, 1.35), 0)).astype(\"int\")"
   ]
  },
  {
   "cell_type": "code",
   "execution_count": 97,
   "metadata": {},
   "outputs": [
    {
     "data": {
      "text/plain": [
       "595"
      ]
     },
     "execution_count": 97,
     "metadata": {},
     "output_type": "execute_result"
    }
   ],
   "source": [
    "(sampled_loans['YearsCurrentEmployer']==sampled_loans['YearsCurrentEmployer_noise']).sum()"
   ]
  },
  {
   "cell_type": "code",
   "execution_count": 107,
   "metadata": {},
   "outputs": [
    {
     "data": {
      "text/plain": [
       "40"
      ]
     },
     "execution_count": 107,
     "metadata": {},
     "output_type": "execute_result"
    }
   ],
   "source": [
    "(sampled_loans['YearCurrentAddress']==sampled_loans['YearsCurrentAddress_noise']).sum()"
   ]
  },
  {
   "cell_type": "code",
   "execution_count": 99,
   "metadata": {},
   "outputs": [
    {
     "data": {
      "text/plain": [
       "0"
      ]
     },
     "execution_count": 99,
     "metadata": {},
     "output_type": "execute_result"
    }
   ],
   "source": [
    "(sampled_loans['IncomeAdj']==sampled_loans['IncomeAdj_noise']).sum()"
   ]
  },
  {
   "cell_type": "code",
   "execution_count": 100,
   "metadata": {},
   "outputs": [
    {
     "data": {
      "text/plain": [
       "580"
      ]
     },
     "execution_count": 100,
     "metadata": {},
     "output_type": "execute_result"
    }
   ],
   "source": [
    "(sampled_loans['NumberOfCards']==sampled_loans['NumberOfCards_noise']).sum()"
   ]
  },
  {
   "cell_type": "code",
   "execution_count": 101,
   "metadata": {},
   "outputs": [
    {
     "data": {
      "text/plain": [
       "count    572.000000\n",
       "mean      23.566434\n",
       "std       15.342698\n",
       "min        0.000000\n",
       "25%       12.000000\n",
       "50%       22.000000\n",
       "75%       34.000000\n",
       "max       62.000000\n",
       "Name: YearsCurrentAddress_noise, dtype: float64"
      ]
     },
     "execution_count": 101,
     "metadata": {},
     "output_type": "execute_result"
    }
   ],
   "source": [
    "sampled_loans[sampled_loans.Default ==0].YearsCurrentAddress_noise.describe()"
   ]
  },
  {
   "cell_type": "code",
   "execution_count": 200,
   "metadata": {},
   "outputs": [
    {
     "data": {
      "text/plain": [
       "count    418.000000\n",
       "mean      25.693780\n",
       "std       14.302723\n",
       "min        0.000000\n",
       "25%       16.000000\n",
       "50%       26.000000\n",
       "75%       36.000000\n",
       "max       68.000000\n",
       "Name: YearsCurrentAddress_noise, dtype: float64"
      ]
     },
     "execution_count": 200,
     "metadata": {},
     "output_type": "execute_result"
    }
   ],
   "source": [
    "sampled_loans[sampled_loans.Default ==1].YearsCurrentAddress_noise.describe()"
   ]
  },
  {
   "cell_type": "code",
   "execution_count": 120,
   "metadata": {},
   "outputs": [],
   "source": [
    "# sampled_loans['RandDefault']= random.uniform(1,2)\n",
    "sampled_loans['RandDefault'] = np.random.randint(0, 2, sampled_loans.shape[0])"
   ]
  },
  {
   "cell_type": "code",
   "execution_count": 121,
   "metadata": {},
   "outputs": [
    {
     "data": {
      "text/plain": [
       "0    522\n",
       "1    478\n",
       "Name: RandDefault, dtype: int64"
      ]
     },
     "execution_count": 121,
     "metadata": {},
     "output_type": "execute_result"
    }
   ],
   "source": [
    "sampled_loans.RandDefault.value_counts()"
   ]
  },
  {
   "cell_type": "code",
   "execution_count": 118,
   "metadata": {},
   "outputs": [],
   "source": [
    "j = 0\n",
    "for i in range(len(sampled_loans)):\n",
    "    if(sampled_loans[i:(i+1)]['RandDefault']==0)[i]:\n",
    "        j = j+1                       \n",
    "        sampled_loans['YearsCurrentAddress_noise'] = sampled_loans['YearCurrentAddress'].apply(lambda x: x * np.around(random.uniform(0, 2), 0)).astype(\"int\")\n",
    "    else: \n",
    "        sampled_loans['YearsCurrentAddress_noise'] = sampled_loans['YearCurrentAddress'].apply(lambda x: x * np.around(random.uniform(1.5, 3), 0)).astype(\"int\")"
   ]
  },
  {
   "cell_type": "code",
   "execution_count": 122,
   "metadata": {},
   "outputs": [
    {
     "data": {
      "text/plain": [
       "RandDefault                  1.000000\n",
       "NumberOfCards_noise          0.082952\n",
       "LoanAmount                   0.031753\n",
       "YearsCurrentEmployer        -0.027041\n",
       "IncomeAdj_noise             -0.049066\n",
       "ID                          -0.053317\n",
       "IncomeAdj                   -0.055684\n",
       "YearsCurrentAddress_noise   -0.064422\n",
       "Name: RandDefault, dtype: float64"
      ]
     },
     "execution_count": 122,
     "metadata": {},
     "output_type": "execute_result"
    }
   ],
   "source": [
    "sampled_loans.corr()['RandDefault'].loc[abs(sampled_loans.corr()['RandDefault'])>0.025].sort_values(ascending=False)"
   ]
  },
  {
   "cell_type": "code",
   "execution_count": 117,
   "metadata": {},
   "outputs": [
    {
     "data": {
      "text/plain": [
       "ID                           -0.036392\n",
       "IncomeAdj                     0.037918\n",
       "YearCurrentAddress            0.018272\n",
       "YearsCurrentEmployer         -0.050422\n",
       "NumberOfCards                -0.041958\n",
       "CCDebt                       -0.014836\n",
       "Loans                         0.042000\n",
       "LoanAmount                   -0.074159\n",
       "SalePrice                     0.096418\n",
       "IncomeAdj_noise               0.051895\n",
       "Default                      -0.030607\n",
       "YearsCurrentAddress_noise     0.018272\n",
       "YearsCurrentEmployer_noise   -0.005330\n",
       "NumberOfCards_noise          -0.027652\n",
       "Default_noise                -0.030607\n",
       "RandDefault                   1.000000\n",
       "Name: RandDefault, dtype: float64"
      ]
     },
     "execution_count": 117,
     "metadata": {},
     "output_type": "execute_result"
    }
   ],
   "source": [
    "sampled_loans.corr()['RandDefault']"
   ]
  }
 ],
 "metadata": {
  "kernelspec": {
   "display_name": "Python 3",
   "language": "python",
   "name": "python3"
  },
  "language_info": {
   "codemirror_mode": {
    "name": "ipython",
    "version": 3
   },
   "file_extension": ".py",
   "mimetype": "text/x-python",
   "name": "python",
   "nbconvert_exporter": "python",
   "pygments_lexer": "ipython3",
   "version": "3.7.4"
  }
 },
 "nbformat": 4,
 "nbformat_minor": 4
}
